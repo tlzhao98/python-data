{
 "cells": [
  {
   "cell_type": "code",
   "execution_count": 1,
   "metadata": {},
   "outputs": [
    {
     "name": "stdout",
     "output_type": "stream",
     "text": [
      "The area for the circle of radius 20 is 1256.0\n"
     ]
    }
   ],
   "source": [
    "# Computing area of circle\n",
    "# Assign a value to a radius\n",
    "radius = 20\n",
    "\n",
    "# Area computation\n",
    "area = radius * radius * 3.14\n",
    "\n",
    "print(\"The area for the circle of radius\", radius, \"is\", area)"
   ]
  },
  {
   "cell_type": "code",
   "execution_count": 2,
   "metadata": {},
   "outputs": [
    {
     "name": "stdout",
     "output_type": "stream",
     "text": [
      "area is 11.0\n",
      "160.9\n"
     ]
    }
   ],
   "source": [
    "# Check point\n",
    "width = 5.5\n",
    "height = 2.0\n",
    "print(\"area is\", width * height)\n",
    "\n",
    "miles = 100\n",
    "kilometers = miles * 1.609\n",
    "print(kilometers)"
   ]
  },
  {
   "cell_type": "code",
   "execution_count": 3,
   "metadata": {},
   "outputs": [
    {
     "name": "stdout",
     "output_type": "stream",
     "text": [
      "Enter a value: 5\n"
     ]
    }
   ],
   "source": [
    "# Reading input\n",
    "# use input function to ask user for input\n",
    "variable = input(\"Enter a value: \")"
   ]
  },
  {
   "cell_type": "code",
   "execution_count": 5,
   "metadata": {},
   "outputs": [
    {
     "name": "stdout",
     "output_type": "stream",
     "text": [
      "Enter a value for radius: 7\n",
      "The area for the circle of radius 7 is 153.86\n",
      "Enter a value for radius: 3\n",
      "The area for the circle of radius 3 is 28.26\n"
     ]
    }
   ],
   "source": [
    "# Computing with input\n",
    "radius = eval(input(\"Enter a value for radius: \"))\n",
    "\n",
    "area = radius * radius * 3.14\n",
    "\n",
    "print(\"The area for the circle of radius\", radius, \"is\", area)\n",
    "\n",
    "# Alternative way of doing above statement\n",
    "s = input(\"Enter a value for radius: \")\n",
    "radius = eval(s)\n",
    "\n",
    "area = radius * radius * 3.14\n",
    "\n",
    "print(\"The area for the circle of radius\", radius, \"is\", area)"
   ]
  },
  {
   "cell_type": "code",
   "execution_count": 6,
   "metadata": {},
   "outputs": [
    {
     "name": "stdout",
     "output_type": "stream",
     "text": [
      "Enter the first number: 100\n",
      "Enter the second number: 85\n",
      "Enter the third number: 96\n",
      "The average of 100 85 96 is 93.66666666666667\n"
     ]
    }
   ],
   "source": [
    "# Computing average using multiple inputs\n",
    "num1 = eval(input(\"Enter the first number: \"))\n",
    "num2 = eval(input(\"Enter the second number: \"))\n",
    "num3 = eval(input(\"Enter the third number: \"))\n",
    "\n",
    "average = (num1 + num2 + num3) / 3\n",
    "\n",
    "print(\"The average of\", num1, num2, num3, \"is\", average)"
   ]
  },
  {
   "cell_type": "code",
   "execution_count": 8,
   "metadata": {},
   "outputs": [
    {
     "name": "stdout",
     "output_type": "stream",
     "text": [
      "1\n",
      "3\n"
     ]
    }
   ],
   "source": [
    "# Variable Assignment\n",
    "# ---Single varible assignment\n",
    "y = 1\n",
    "x = 5 * (3 / 2) + 3 * 2\n",
    "x = y + 1 # overwriting previous assignment of x\n",
    "x = x + 1 # result of variable 'x' adding 1 is stored as the result for x\n",
    "\n",
    "print(y)\n",
    "print(x)"
   ]
  },
  {
   "cell_type": "code",
   "execution_count": 10,
   "metadata": {},
   "outputs": [
    {
     "name": "stdout",
     "output_type": "stream",
     "text": [
      "2\n",
      "1\n",
      "1\n"
     ]
    }
   ],
   "source": [
    "# ---Simultaneous Assignment\n",
    "x = 1\n",
    "y = 2\n",
    "temp = x\n",
    "x = y\n",
    "y = temp\n",
    "\n",
    "print(x)\n",
    "print(y)\n",
    "print(temp)\n",
    "\n",
    "# Alternative method\n",
    "x, y = y, x"
   ]
  },
  {
   "cell_type": "code",
   "execution_count": 11,
   "metadata": {},
   "outputs": [
    {
     "name": "stdout",
     "output_type": "stream",
     "text": [
      "Enter three numbers separated by commas: 5, 19, 22\n",
      "The average of 5 19 22 is 15.333333333333334\n"
     ]
    }
   ],
   "source": [
    "# Averages with simultaneous assignment\n",
    "num1, num2, num3 = eval(input(\"Enter three numbers separated by commas: \"))\n",
    "\n",
    "average = (num1 + num2 + num3) / 3\n",
    "\n",
    "print(\"The average of\", num1, num2, num3, \"is\", average)"
   ]
  },
  {
   "cell_type": "code",
   "execution_count": 1,
   "metadata": {},
   "outputs": [
    {
     "name": "stdout",
     "output_type": "stream",
     "text": [
      "Enter an integer for seconds: 688\n",
      "688 seconds is 11 minutes and 28 seconds\n"
     ]
    }
   ],
   "source": [
    "# Display time\n",
    "seconds = eval(input(\"Enter an integer for seconds: \"))\n",
    "\n",
    "minutes = seconds // 60\n",
    "remainingSeconds = seconds % 60\n",
    "print(seconds, \"seconds is\", minutes, \"minutes and\", remainingSeconds, \"seconds\")"
   ]
  },
  {
   "cell_type": "code",
   "execution_count": null,
   "metadata": {},
   "outputs": [],
   "source": []
  }
 ],
 "metadata": {
  "kernelspec": {
   "display_name": "Python 3",
   "language": "python",
   "name": "python3"
  },
  "language_info": {
   "codemirror_mode": {
    "name": "ipython",
    "version": 3
   },
   "file_extension": ".py",
   "mimetype": "text/x-python",
   "name": "python",
   "nbconvert_exporter": "python",
   "pygments_lexer": "ipython3",
   "version": "3.6.5"
  }
 },
 "nbformat": 4,
 "nbformat_minor": 2
}

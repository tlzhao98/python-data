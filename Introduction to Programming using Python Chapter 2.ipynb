{
 "cells": [
  {
   "cell_type": "code",
   "execution_count": 1,
   "metadata": {},
   "outputs": [
    {
     "name": "stdout",
     "output_type": "stream",
     "text": [
      "The area for the circle of radius 20 is 1256.0\n"
     ]
    }
   ],
   "source": [
    "# Computing area of circle\n",
    "# Assign a value to a radius\n",
    "radius = 20\n",
    "\n",
    "# Area computation\n",
    "area = radius * radius * 3.14\n",
    "\n",
    "print(\"The area for the circle of radius\", radius, \"is\", area)"
   ]
  },
  {
   "cell_type": "code",
   "execution_count": 2,
   "metadata": {},
   "outputs": [
    {
     "name": "stdout",
     "output_type": "stream",
     "text": [
      "area is 11.0\n",
      "160.9\n"
     ]
    }
   ],
   "source": [
    "# Check point\n",
    "width = 5.5\n",
    "height = 2.0\n",
    "print(\"area is\", width * height)\n",
    "\n",
    "miles = 100\n",
    "kilometers = miles * 1.609\n",
    "print(kilometers)"
   ]
  },
  {
   "cell_type": "code",
   "execution_count": 3,
   "metadata": {},
   "outputs": [
    {
     "name": "stdout",
     "output_type": "stream",
     "text": [
      "Enter a value: 5\n"
     ]
    }
   ],
   "source": [
    "# Reading input\n",
    "# use input function to ask user for input\n",
    "variable = input(\"Enter a value: \")"
   ]
  },
  {
   "cell_type": "code",
   "execution_count": 5,
   "metadata": {},
   "outputs": [
    {
     "name": "stdout",
     "output_type": "stream",
     "text": [
      "Enter a value for radius: 7\n",
      "The area for the circle of radius 7 is 153.86\n",
      "Enter a value for radius: 3\n",
      "The area for the circle of radius 3 is 28.26\n"
     ]
    }
   ],
   "source": [
    "# Computing with input\n",
    "radius = eval(input(\"Enter a value for radius: \"))\n",
    "\n",
    "area = radius * radius * 3.14\n",
    "\n",
    "print(\"The area for the circle of radius\", radius, \"is\", area)\n",
    "\n",
    "# Alternative way of doing above statement\n",
    "s = input(\"Enter a value for radius: \")\n",
    "radius = eval(s)\n",
    "\n",
    "area = radius * radius * 3.14\n",
    "\n",
    "print(\"The area for the circle of radius\", radius, \"is\", area)"
   ]
  },
  {
   "cell_type": "code",
   "execution_count": null,
   "metadata": {},
   "outputs": [],
   "source": []
  }
 ],
 "metadata": {
  "kernelspec": {
   "display_name": "Python 3",
   "language": "python",
   "name": "python3"
  },
  "language_info": {
   "codemirror_mode": {
    "name": "ipython",
    "version": 3
   },
   "file_extension": ".py",
   "mimetype": "text/x-python",
   "name": "python",
   "nbconvert_exporter": "python",
   "pygments_lexer": "ipython3",
   "version": "3.6.5"
  }
 },
 "nbformat": 4,
 "nbformat_minor": 2
}

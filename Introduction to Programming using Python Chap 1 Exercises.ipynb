{
 "cells": [
  {
   "cell_type": "code",
   "execution_count": 1,
   "metadata": {},
   "outputs": [
    {
     "name": "stdout",
     "output_type": "stream",
     "text": [
      "Welcome to Python\n",
      "Welcome to Python\n",
      "Welcome to Python\n",
      "Welcome to Python\n",
      "Welcome to Python\n"
     ]
    }
   ],
   "source": [
    "# Chapter 1 Exercise 1.2\n",
    "print(\"Welcome to Python\")\n",
    "print(\"Welcome to Python\")\n",
    "print(\"Welcome to Python\")\n",
    "print(\"Welcome to Python\")\n",
    "print(\"Welcome to Python\")"
   ]
  },
  {
   "cell_type": "code",
   "execution_count": 2,
   "metadata": {},
   "outputs": [
    {
     "name": "stdout",
     "output_type": "stream",
     "text": [
      "a      a^2    a^3\n",
      "1      1      1\n",
      "2      4      8\n",
      "3      9      27\n",
      "4      16     64\n"
     ]
    }
   ],
   "source": [
    "# Chapter 1 Exercise 1.4\n",
    "print(\"a      a^2    a^3\")\n",
    "print(\"1      1      1\")\n",
    "print(\"2      4      8\")\n",
    "print(\"3      9      27\")\n",
    "print(\"4      16     64\")"
   ]
  },
  {
   "cell_type": "code",
   "execution_count": 3,
   "metadata": {},
   "outputs": [
    {
     "name": "stdout",
     "output_type": "stream",
     "text": [
      "45\n"
     ]
    }
   ],
   "source": [
    "# Chapter 1 Exercise 1.6\n",
    "x = 1 + 2 + 3 + 4 + 5 + 6 + 7 + 8 + 9\n",
    "print(x)"
   ]
  },
  {
   "cell_type": "code",
   "execution_count": 4,
   "metadata": {},
   "outputs": [
    {
     "name": "stdout",
     "output_type": "stream",
     "text": [
      "94.985\n",
      "34.54\n"
     ]
    }
   ],
   "source": [
    "# Chapter 1 Exercise 1.8\n",
    "radius = 5.5\n",
    "area =  radius * radius * 3.14\n",
    "perimeter = 2 * radius * 3.14\n",
    "\n",
    "print(area)\n",
    "print(perimeter)"
   ]
  },
  {
   "cell_type": "code",
   "execution_count": 5,
   "metadata": {},
   "outputs": [
    {
     "name": "stdout",
     "output_type": "stream",
     "text": [
      "11.538461538461538\n"
     ]
    }
   ],
   "source": [
    "# Chapter 1 Exercise 1.10\n",
    "speed = 14.0 / 45.5\n",
    "hourlySpeed = speed * 60\n",
    "miles = hourlySpeed / 1.6\n",
    "\n",
    "print(miles)\n"
   ]
  },
  {
   "cell_type": "code",
   "execution_count": null,
   "metadata": {},
   "outputs": [],
   "source": []
  }
 ],
 "metadata": {
  "kernelspec": {
   "display_name": "Python 3",
   "language": "python",
   "name": "python3"
  },
  "language_info": {
   "codemirror_mode": {
    "name": "ipython",
    "version": 3
   },
   "file_extension": ".py",
   "mimetype": "text/x-python",
   "name": "python",
   "nbconvert_exporter": "python",
   "pygments_lexer": "ipython3",
   "version": "3.6.5"
  }
 },
 "nbformat": 4,
 "nbformat_minor": 2
}

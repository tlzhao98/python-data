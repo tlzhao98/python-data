{
 "cells": [
  {
   "cell_type": "code",
   "execution_count": 1,
   "metadata": {},
   "outputs": [],
   "source": [
    "#variable declaration\n",
    "room = \"kit\"\n",
    "area = 14.0"
   ]
  },
  {
   "cell_type": "code",
   "execution_count": 3,
   "metadata": {},
   "outputs": [
    {
     "name": "stdout",
     "output_type": "stream",
     "text": [
      "Looking around in the kitchen.\n",
      "pretty small\n"
     ]
    }
   ],
   "source": [
    "if(room == \"kit\") :\n",
    "    print(\"Looking around in the kitchen.\")\n",
    "else :\n",
    "    print(\"looking around elsewhere\")\n",
    "\n",
    "if(area > 15) :\n",
    "    print(\"big place!\")\n",
    "else :\n",
    "    print(\"pretty small\")"
   ]
  },
  {
   "cell_type": "code",
   "execution_count": 4,
   "metadata": {},
   "outputs": [
    {
     "name": "stdout",
     "output_type": "stream",
     "text": [
      "looking around in the bedroom.\n",
      "medium size, nice!\n"
     ]
    }
   ],
   "source": [
    "# variable declaration and elif\n",
    "room = \"bed\"\n",
    "area = 14.0\n",
    "\n",
    "if(room == \"kit\") :\n",
    "    print(\"looking around in the kitchen.\")\n",
    "elif(room == \"bed\") :\n",
    "    print(\"looking around in the bedroom.\")\n",
    "else :\n",
    "    print(\"looking around elsewhere.\")\n",
    "\n",
    "if(area > 15) :\n",
    "    print(\"big place!\")\n",
    "elif(area > 10) :\n",
    "    print(\"medium size, nice!\")\n",
    "else :\n",
    "    print(\"pretty small.\")"
   ]
  },
  {
   "cell_type": "code",
   "execution_count": null,
   "metadata": {},
   "outputs": [],
   "source": []
  }
 ],
 "metadata": {
  "kernelspec": {
   "display_name": "Python 3",
   "language": "python",
   "name": "python3"
  },
  "language_info": {
   "codemirror_mode": {
    "name": "ipython",
    "version": 3
   },
   "file_extension": ".py",
   "mimetype": "text/x-python",
   "name": "python",
   "nbconvert_exporter": "python",
   "pygments_lexer": "ipython3",
   "version": "3.6.5"
  }
 },
 "nbformat": 4,
 "nbformat_minor": 2
}

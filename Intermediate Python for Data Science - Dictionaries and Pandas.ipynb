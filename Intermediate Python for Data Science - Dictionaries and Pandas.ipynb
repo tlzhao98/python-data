{
 "cells": [
  {
   "cell_type": "code",
   "execution_count": 1,
   "metadata": {},
   "outputs": [],
   "source": [
    "# variable declaration\n",
    "countries = ['spain', 'france', 'germany', 'norway']\n",
    "capitals = ['madrid', 'paris', 'berlin', 'oslo']"
   ]
  },
  {
   "cell_type": "code",
   "execution_count": 2,
   "metadata": {},
   "outputs": [
    {
     "name": "stdout",
     "output_type": "stream",
     "text": [
      "berlin\n"
     ]
    }
   ],
   "source": [
    "# index and print\n",
    "ind_ger = countries.index('germany')\n",
    "print(capitals[ind_ger])"
   ]
  },
  {
   "cell_type": "code",
   "execution_count": 3,
   "metadata": {},
   "outputs": [
    {
     "name": "stdout",
     "output_type": "stream",
     "text": [
      "{'spain': 'madrid', 'france': 'paris', 'germany': 'berlin', 'norway': 'oslo'}\n"
     ]
    }
   ],
   "source": [
    "# creating a dictionary\n",
    "europe = {\"spain\":\"madrid\",\n",
    "         \"france\":\"paris\",\n",
    "         \"germany\":\"berlin\",\n",
    "         \"norway\":\"oslo\"}\n",
    "\n",
    "print(europe)"
   ]
  },
  {
   "cell_type": "code",
   "execution_count": 4,
   "metadata": {},
   "outputs": [
    {
     "name": "stdout",
     "output_type": "stream",
     "text": [
      "dict_keys(['spain', 'france', 'germany', 'norway'])\n",
      "oslo\n"
     ]
    }
   ],
   "source": [
    "europe = {'spain': 'madrid', \n",
    "          'france': 'paris', \n",
    "          'germany': 'berlin', \n",
    "          'norway': 'oslo'}\n",
    "\n",
    "# accessing the dictionary by keys\n",
    "print(europe.keys())\n",
    "print(europe['norway'])"
   ]
  },
  {
   "cell_type": "code",
   "execution_count": 5,
   "metadata": {},
   "outputs": [
    {
     "name": "stdout",
     "output_type": "stream",
     "text": [
      "True\n"
     ]
    }
   ],
   "source": [
    "# adding to dictionaries\n",
    "europe['italy'] = 'rome'\n",
    "\n",
    "print('italy' in europe)"
   ]
  },
  {
   "cell_type": "code",
   "execution_count": 6,
   "metadata": {},
   "outputs": [
    {
     "name": "stdout",
     "output_type": "stream",
     "text": [
      "{'spain': 'madrid', 'france': 'paris', 'germany': 'berlin', 'norway': 'oslo', 'italy': 'rome', 'poland': 'warsaw'}\n"
     ]
    }
   ],
   "source": [
    "europe['poland'] = 'warsaw'\n",
    "print (europe) # keys 'italy'/'poland' and values 'rome'/'warsaw' are now included"
   ]
  },
  {
   "cell_type": "code",
   "execution_count": 7,
   "metadata": {},
   "outputs": [
    {
     "name": "stdout",
     "output_type": "stream",
     "text": [
      "{'spain': 'madrid', 'france': 'paris', 'germany': 'bonn', 'norway': 'oslo', 'italy': 'rome', 'poland': 'warsaw', 'australia': 'vienna'}\n"
     ]
    }
   ],
   "source": [
    "# changing value of dictionaries. (keys cannot be changed)\n",
    "europe['germany'] = 'bonn'\n",
    "europe['australia'] = 'vienna'\n",
    "print(europe)"
   ]
  },
  {
   "cell_type": "code",
   "execution_count": 9,
   "metadata": {},
   "outputs": [
    {
     "name": "stdout",
     "output_type": "stream",
     "text": [
      "{'spain': 'madrid', 'france': 'paris', 'germany': 'berlin', 'norway': 'oslo', 'italy': 'rome', 'poland': 'warsaw', 'australia': 'vienna'}\n"
     ]
    }
   ],
   "source": [
    "europe['germany'] = 'berlin'\n",
    "print(europe)"
   ]
  },
  {
   "cell_type": "code",
   "execution_count": 10,
   "metadata": {},
   "outputs": [
    {
     "name": "stdout",
     "output_type": "stream",
     "text": [
      "{'spain': 'madrid', 'france': 'paris', 'germany': 'berlin', 'norway': 'oslo', 'italy': 'rome', 'poland': 'warsaw'}\n"
     ]
    }
   ],
   "source": [
    "# removing key entry\n",
    "del(europe['australia'])\n",
    "print(europe)"
   ]
  },
  {
   "cell_type": "code",
   "execution_count": 13,
   "metadata": {},
   "outputs": [
    {
     "name": "stdout",
     "output_type": "stream",
     "text": [
      "paris\n"
     ]
    }
   ],
   "source": [
    "# Dictionary of dictionaries\n",
    "europe = { 'spain': {'capital':'madrid', 'population':46.77},\n",
    "           'france': {'capital':'paris', 'population':66.03},\n",
    "           'germany': {'capital':'berlin', 'population':80.62},\n",
    "           'norway': {'capital':'oslo', 'population':5.084} }\n",
    "\n",
    "# feteching specific information from dictionary\n",
    "# dictionary[key][value]\n",
    "print(europe['france']['capital'])"
   ]
  },
  {
   "cell_type": "code",
   "execution_count": 14,
   "metadata": {},
   "outputs": [
    {
     "name": "stdout",
     "output_type": "stream",
     "text": [
      "{'spain': {'capital': 'madrid', 'population': 46.77}, 'france': {'capital': 'paris', 'population': 66.03}, 'germany': {'capital': 'berlin', 'population': 80.62}, 'norway': {'capital': 'oslo', 'population': 5.084}, 'italy': {'capital': 'rome', 'population': 59.83}}\n"
     ]
    }
   ],
   "source": [
    "# Sub-dictionary\n",
    "data = {'capital':'rome', 'population':59.83}\n",
    "\n",
    "europe['italy'] = data\n",
    "print(europe)"
   ]
  },
  {
   "cell_type": "code",
   "execution_count": null,
   "metadata": {},
   "outputs": [],
   "source": []
  }
 ],
 "metadata": {
  "kernelspec": {
   "display_name": "Python 3",
   "language": "python",
   "name": "python3"
  },
  "language_info": {
   "codemirror_mode": {
    "name": "ipython",
    "version": 3
   },
   "file_extension": ".py",
   "mimetype": "text/x-python",
   "name": "python",
   "nbconvert_exporter": "python",
   "pygments_lexer": "ipython3",
   "version": "3.6.5"
  }
 },
 "nbformat": 4,
 "nbformat_minor": 2
}
